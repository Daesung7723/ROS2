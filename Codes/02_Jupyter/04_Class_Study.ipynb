{
 "cells": [
  {
   "cell_type": "markdown",
   "metadata": {},
   "source": [
    "### Python Class Study\n",
    "\n",
    "- Y = Asin(2*pi*f*t)+b\n",
    "\n",
    "#### matplotlib install\n",
    "- sudo pip3 install matplotlib"
   ]
  },
  {
   "cell_type": "code",
   "execution_count": 1,
   "metadata": {},
   "outputs": [],
   "source": [
    "import matplotlib.pyplot as plt\n",
    "import numpy as np"
   ]
  },
  {
   "cell_type": "markdown",
   "metadata": {},
   "source": [
    "- Define Domain"
   ]
  },
  {
   "cell_type": "code",
   "execution_count": null,
   "metadata": {},
   "outputs": [],
   "source": [
    "t = np.arange(0, 6, 0.01)\n",
    "t"
   ]
  },
  {
   "cell_type": "code",
   "execution_count": null,
   "metadata": {},
   "outputs": [],
   "source": [
    "t.shape"
   ]
  },
  {
   "cell_type": "markdown",
   "metadata": {},
   "source": [
    "- sin() function"
   ]
  },
  {
   "cell_type": "code",
   "execution_count": null,
   "metadata": {},
   "outputs": [],
   "source": [
    "y = np.sin(np.pi * t)\n",
    "y.shape"
   ]
  },
  {
   "cell_type": "markdown",
   "metadata": {},
   "source": [
    "- Draw graph with Plot Library"
   ]
  },
  {
   "cell_type": "code",
   "execution_count": null,
   "metadata": {},
   "outputs": [],
   "source": [
    "plt.figure(figsize=(12,6))\n",
    "plt.plot(t,y)\n",
    "plt.grid()\n",
    "plt.show()"
   ]
  },
  {
   "cell_type": "code",
   "execution_count": null,
   "metadata": {},
   "outputs": [],
   "source": [
    "t1 = np.arange(0, 6, 0.01)\n",
    "y1 = np.sin(np.pi * 5 * t1)\n",
    "\n",
    "plt.figure(figsize=(12,6))\n",
    "plt.plot(t1,y1)\n",
    "plt.grid()\n",
    "plt.show()"
   ]
  },
  {
   "cell_type": "markdown",
   "metadata": {},
   "source": [
    "- Make a function"
   ]
  },
  {
   "cell_type": "code",
   "execution_count": 7,
   "metadata": {},
   "outputs": [],
   "source": [
    "def draw_sin(t, A, f, b):\n",
    "    y = A * np.sin(np.pi * f * t) + b\n",
    "    plt. figure(figsize=(12,6))\n",
    "    plt.plot(t,y)\n",
    "    plt.grid()\n",
    "    plt.show()"
   ]
  },
  {
   "cell_type": "code",
   "execution_count": null,
   "metadata": {},
   "outputs": [],
   "source": [
    "t =  np.arange(0, 6, 0.01)\n",
    "draw_sin(t, 1, 1, 0)"
   ]
  },
  {
   "cell_type": "code",
   "execution_count": 13,
   "metadata": {},
   "outputs": [],
   "source": [
    "class DrawSin :\n",
    "    def __init__(self, amp, freq, bias, end_time) :\n",
    "        self.amp = amp\n",
    "        self.freq = freq\n",
    "        self.bias = bias\n",
    "        self.end_time = end_time\n",
    "\n",
    "    def calc_sin(self):\n",
    "        self.t = np.arange(0, self.end_time, 0.01)\n",
    "        return self.amp * np.sin(2*np.pi*self.freq*self.t) + self.bias\n",
    "    \n",
    "    def draw_sin(self):\n",
    "        y = self.calc_sin()\n",
    "        plt.figure(figsize=(12,6))\n",
    "        plt.plot(self.t, y)\n",
    "        plt.grid()\n",
    "        plt.show()"
   ]
  },
  {
   "cell_type": "code",
   "execution_count": null,
   "metadata": {},
   "outputs": [],
   "source": [
    "tmp = DrawSin(1,1,0,3)\n",
    "tmp.draw_sin()"
   ]
  },
  {
   "cell_type": "code",
   "execution_count": null,
   "metadata": {},
   "outputs": [],
   "source": [
    "tmp.end_time = 10\n",
    "tmp.draw_sin()"
   ]
  },
  {
   "cell_type": "code",
   "execution_count": 18,
   "metadata": {},
   "outputs": [],
   "source": [
    "class DrawSinusoidal(DrawSin):\n",
    "    def calc_cos(self):\n",
    "        self.t = np.arange(0, self.end_time, 0.01)\n",
    "        return self.amp * np.cos(2 * np.pi * self.freq * self.t) + self.bias\n",
    "    \n",
    "    def draw_cos(self):\n",
    "        y = self.calc_cos()\n",
    "        plt.figure(figsize=(12,6))\n",
    "        plt.plot(self.t, y)\n",
    "        plt.grid()\n",
    "        plt.show()"
   ]
  },
  {
   "cell_type": "code",
   "execution_count": null,
   "metadata": {},
   "outputs": [],
   "source": [
    "dc = DrawSinusoidal(1,1,0,3)\n",
    "dc.draw_cos()"
   ]
  },
  {
   "cell_type": "code",
   "execution_count": null,
   "metadata": {},
   "outputs": [],
   "source": [
    "dc.draw_sin()"
   ]
  },
  {
   "cell_type": "code",
   "execution_count": 21,
   "metadata": {},
   "outputs": [],
   "source": [
    "class DrawSinusoidal2(DrawSinusoidal):\n",
    "    def draw_sin(self):\n",
    "        y =  self.calc_sin()\n",
    "        plt.figure(figsize=(12,6))\n",
    "        plt.plot(self.t, y)\n",
    "        plt.title('Sin')\n",
    "        plt.ylabel('sin value')\n",
    "        plt.xlabel('time(sec)')\n",
    "        plt.grid()\n",
    "        plt.show()"
   ]
  },
  {
   "cell_type": "code",
   "execution_count": null,
   "metadata": {},
   "outputs": [],
   "source": [
    "dc2 = DrawSinusoidal2(1,1,0,3)\n",
    "dc2.draw_sin()"
   ]
  },
  {
   "cell_type": "code",
   "execution_count": 23,
   "metadata": {},
   "outputs": [],
   "source": [
    "class DrawSinusoidal3(DrawSinusoidal2):\n",
    "    def __init__(self, amp, freq, bias, end_time, ts):\n",
    "        super().__init__(amp, freq, bias, end_time)\n",
    "        self.ts = ts\n",
    "\n",
    "    def calc_sin(self):\n",
    "        self.t = np.arange(0, self.end_time, self.ts)\n",
    "        return self.amp * np.sin(2*np.pi*self.freq*self.t) + self.bias\n",
    "\n",
    "    def draw_sin(self):\n",
    "        y =  self.calc_sin()\n",
    "        plt.figure(figsize=(12,6))\n",
    "        plt.plot(self.t, y)\n",
    "        plt.title('Sin')\n",
    "        plt.ylabel('sin value')\n",
    "        plt.xlabel('time(sec)')\n",
    "        plt.grid()\n",
    "        plt.show()"
   ]
  },
  {
   "cell_type": "code",
   "execution_count": null,
   "metadata": {},
   "outputs": [],
   "source": [
    "dc3 = DrawSinusoidal3(1,1,0,3,0.1)\n",
    "dc3.draw_sin()"
   ]
  }
 ],
 "metadata": {
  "kernelspec": {
   "display_name": "Python 3",
   "language": "python",
   "name": "python3"
  },
  "language_info": {
   "codemirror_mode": {
    "name": "ipython",
    "version": 3
   },
   "file_extension": ".py",
   "mimetype": "text/x-python",
   "name": "python",
   "nbconvert_exporter": "python",
   "pygments_lexer": "ipython3",
   "version": "3.10.12"
  }
 },
 "nbformat": 4,
 "nbformat_minor": 2
}
