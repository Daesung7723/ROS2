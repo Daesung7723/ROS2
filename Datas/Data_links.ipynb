{
 "cells": [
  {
   "cell_type": "markdown",
   "metadata": {},
   "source": [
    "### Robot Operation System ROS Cafe by Phd. Pyo\n",
    "> https://cafe.naver.com/openrt?iframe_url_utf8=%2FArticleRead.nhn%253Farticleid%3D24070%2526clubid%3D25572101\n",
    "\n",
    "\n",
    "### github by Phd. Pyo\n",
    "> https://github.com/robotpilot/ros-seminar\n",
    "\n"
   ]
  }
 ],
 "metadata": {
  "language_info": {
   "name": "python"
  }
 },
 "nbformat": 4,
 "nbformat_minor": 2
}
